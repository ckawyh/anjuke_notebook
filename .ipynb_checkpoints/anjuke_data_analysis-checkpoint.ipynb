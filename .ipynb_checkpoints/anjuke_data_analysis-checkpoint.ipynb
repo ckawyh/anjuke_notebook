{
 "cells": [
  {
   "cell_type": "code",
   "execution_count": 1,
   "metadata": {
    "collapsed": true
   },
   "outputs": [],
   "source": [
    "import pandas as pd\n",
    "%matplotlib inline"
   ]
  },
  {
   "cell_type": "code",
   "execution_count": 2,
   "metadata": {
    "collapsed": true
   },
   "outputs": [],
   "source": [
    "# 读入数据\n",
    "data_path = './anjuke_community_clean.csv'\n",
    "df = pd.read_csv(data_path, encoding='gbk')"
   ]
  },
  {
   "cell_type": "code",
   "execution_count": 6,
   "metadata": {
    "collapsed": false
   },
   "outputs": [
    {
     "name": "stdout",
     "output_type": "stream",
     "text": [
      "<class 'pandas.core.frame.DataFrame'>\n",
      "RangeIndex: 23711 entries, 0 to 23710\n",
      "Data columns (total 37 columns):\n",
      "community_id               23711 non-null int64\n",
      "community_name             23711 non-null object\n",
      "url                        23711 non-null object\n",
      "district                   23711 non-null object\n",
      "township                   23711 non-null object\n",
      "address                    23711 non-null object\n",
      "age                        19555 non-null object\n",
      "developer                  14292 non-null object\n",
      "property_company           17014 non-null object\n",
      "property_type              22623 non-null object\n",
      "property_fee               18755 non-null float64\n",
      "longitude                  23711 non-null float64\n",
      "latitude                   23711 non-null float64\n",
      "total_construction_area    11833 non-null float64\n",
      "volume_rate                14062 non-null float64\n",
      "total_houses               12029 non-null float64\n",
      "parking_space              13782 non-null object\n",
      "green_rate                 18610 non-null float64\n",
      "greet                      13883 non-null float64\n",
      "comfort                    13883 non-null float64\n",
      "traffic_score              13883 non-null float64\n",
      "metro_station_num          13883 non-null float64\n",
      "bus_station_num            13883 non-null float64\n",
      "hospital_score             13883 non-null float64\n",
      "level_three_num            13883 non-null float64\n",
      "level_two_num              13883 non-null float64\n",
      "level_one_num              13883 non-null float64\n",
      "level_comm_num             13883 non-null float64\n",
      "school_score               13883 non-null float64\n",
      "nursery_num                13883 non-null float64\n",
      "junior_num                 13883 non-null float64\n",
      "middle_num                 13883 non-null float64\n",
      "commerce_score             13883 non-null float64\n",
      "restaurant_num             13883 non-null float64\n",
      "bank_num                   13883 non-null float64\n",
      "supermarket_num            13883 non-null float64\n",
      "average_price              19421 non-null float64\n",
      "dtypes: float64(26), int64(1), object(10)\n",
      "memory usage: 6.7+ MB\n"
     ]
    }
   ],
   "source": [
    "df.info()"
   ]
  },
  {
   "cell_type": "code",
   "execution_count": null,
   "metadata": {
    "collapsed": true
   },
   "outputs": [],
   "source": []
  }
 ],
 "metadata": {
  "anaconda-cloud": {},
  "kernelspec": {
   "display_name": "Python [default]",
   "language": "python",
   "name": "python3"
  },
  "language_info": {
   "codemirror_mode": {
    "name": "ipython",
    "version": 3
   },
   "file_extension": ".py",
   "mimetype": "text/x-python",
   "name": "python",
   "nbconvert_exporter": "python",
   "pygments_lexer": "ipython3",
   "version": "3.5.2"
  }
 },
 "nbformat": 4,
 "nbformat_minor": 1
}
