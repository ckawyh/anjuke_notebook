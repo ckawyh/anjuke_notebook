{
 "cells": [
  {
   "cell_type": "code",
   "execution_count": 1,
   "metadata": {
    "collapsed": true
   },
   "outputs": [],
   "source": [
    "import pandas as pd"
   ]
  },
  {
   "cell_type": "code",
   "execution_count": 4,
   "metadata": {
    "collapsed": false
   },
   "outputs": [
    {
     "data": {
      "text/html": [
       "<div>\n",
       "<table border=\"1\" class=\"dataframe\">\n",
       "  <thead>\n",
       "    <tr style=\"text-align: right;\">\n",
       "      <th></th>\n",
       "      <th>community_id</th>\n",
       "      <th>community_name</th>\n",
       "      <th>average_price</th>\n",
       "      <th>url</th>\n",
       "      <th>address</th>\n",
       "      <th>age</th>\n",
       "      <th>longitude</th>\n",
       "      <th>latitude</th>\n",
       "      <th>community_id.1</th>\n",
       "      <th>property_type</th>\n",
       "      <th>...</th>\n",
       "      <th>level_one_num</th>\n",
       "      <th>level_comm_num</th>\n",
       "      <th>school_score</th>\n",
       "      <th>nursery_num</th>\n",
       "      <th>junior_num</th>\n",
       "      <th>middle_num</th>\n",
       "      <th>commerce_score</th>\n",
       "      <th>restaurant_num</th>\n",
       "      <th>bank_num</th>\n",
       "      <th>supermarket_num</th>\n",
       "    </tr>\n",
       "  </thead>\n",
       "  <tbody>\n",
       "    <tr>\n",
       "      <th>0</th>\n",
       "      <td>1</td>\n",
       "      <td>莲园小区</td>\n",
       "      <td>57483 元/平米</td>\n",
       "      <td>https://shanghai.anjuke.com/community/view/1/</td>\n",
       "      <td>［浦东-北蔡］莲园路518弄</td>\n",
       "      <td>1996年</td>\n",
       "      <td>31.192010</td>\n",
       "      <td>121.564893</td>\n",
       "      <td>1</td>\n",
       "      <td>公寓</td>\n",
       "      <td>...</td>\n",
       "      <td>1</td>\n",
       "      <td>237</td>\n",
       "      <td>7</td>\n",
       "      <td>5</td>\n",
       "      <td>3</td>\n",
       "      <td>2</td>\n",
       "      <td>5</td>\n",
       "      <td>306</td>\n",
       "      <td>54</td>\n",
       "      <td>128</td>\n",
       "    </tr>\n",
       "    <tr>\n",
       "      <th>1</th>\n",
       "      <td>100</td>\n",
       "      <td>碧云国际社区晓园</td>\n",
       "      <td>84345 元/平米</td>\n",
       "      <td>https://shanghai.anjuke.com/community/view/100/</td>\n",
       "      <td>［浦东-碧云］红枫路358弄</td>\n",
       "      <td>2006年</td>\n",
       "      <td>31.247488</td>\n",
       "      <td>121.598943</td>\n",
       "      <td>100</td>\n",
       "      <td>公寓</td>\n",
       "      <td>...</td>\n",
       "      <td>0</td>\n",
       "      <td>0</td>\n",
       "      <td>5</td>\n",
       "      <td>4</td>\n",
       "      <td>1</td>\n",
       "      <td>2</td>\n",
       "      <td>6</td>\n",
       "      <td>189</td>\n",
       "      <td>24</td>\n",
       "      <td>35</td>\n",
       "    </tr>\n",
       "  </tbody>\n",
       "</table>\n",
       "<p>2 rows × 36 columns</p>\n",
       "</div>"
      ],
      "text/plain": [
       "   community_id community_name average_price  \\\n",
       "0             1           莲园小区    57483 元/平米   \n",
       "1           100       碧云国际社区晓园    84345 元/平米   \n",
       "\n",
       "                                               url         address    age  \\\n",
       "0    https://shanghai.anjuke.com/community/view/1/  ［浦东-北蔡］莲园路518弄  1996年   \n",
       "1  https://shanghai.anjuke.com/community/view/100/  ［浦东-碧云］红枫路358弄  2006年   \n",
       "\n",
       "   longitude    latitude  community_id.1 property_type       ...         \\\n",
       "0  31.192010  121.564893               1            公寓       ...          \n",
       "1  31.247488  121.598943             100            公寓       ...          \n",
       "\n",
       "  level_one_num level_comm_num school_score nursery_num junior_num middle_num  \\\n",
       "0             1            237            7           5          3          2   \n",
       "1             0              0            5           4          1          2   \n",
       "\n",
       "  commerce_score restaurant_num  bank_num  supermarket_num  \n",
       "0              5            306        54              128  \n",
       "1              6            189        24               35  \n",
       "\n",
       "[2 rows x 36 columns]"
      ]
     },
     "execution_count": 4,
     "metadata": {},
     "output_type": "execute_result"
    }
   ],
   "source": [
    "data_path = '../anjuke_community_original.csv'\n",
    "df = pd.read_csv(data_path, encoding='gbk')\n",
    "df.head(2)"
   ]
  },
  {
   "cell_type": "code",
   "execution_count": 5,
   "metadata": {
    "collapsed": false
   },
   "outputs": [
    {
     "data": {
      "text/plain": [
       "Index(['community_id', 'community_name', 'average_price', 'url', 'address',\n",
       "       'age', 'longitude', 'latitude', 'community_id.1', 'property_type',\n",
       "       'total_construction_area', 'volume_rate', 'developer',\n",
       "       'property_company', 'property_fee', 'total_houses', 'parking_space',\n",
       "       'green_rate', 'greet', 'comfort', 'traffic_score', 'metro_station_num',\n",
       "       'bus_station_num', 'hospital_score', 'level_three_num', 'level_two_num',\n",
       "       'level_one_num', 'level_comm_num', 'school_score', 'nursery_num',\n",
       "       'junior_num', 'middle_num', 'commerce_score', 'restaurant_num',\n",
       "       'bank_num', 'supermarket_num'],\n",
       "      dtype='object')"
      ]
     },
     "execution_count": 5,
     "metadata": {},
     "output_type": "execute_result"
    }
   ],
   "source": [
    "df.columns"
   ]
  },
  {
   "cell_type": "code",
   "execution_count": 10,
   "metadata": {
    "collapsed": false
   },
   "outputs": [],
   "source": [
    "# 去除房价的单位（元/平米）\n",
    "df['average_price'] = df['average_price'].apply(lambda x : x.split(' ')[0])"
   ]
  },
  {
   "cell_type": "code",
   "execution_count": 13,
   "metadata": {
    "collapsed": true
   },
   "outputs": [],
   "source": [
    "# 删除重复的列community_id.1\n",
    "del df['community_id.1']"
   ]
  },
  {
   "cell_type": "code",
   "execution_count": 19,
   "metadata": {
    "collapsed": false
   },
   "outputs": [
    {
     "data": {
      "text/plain": [
       "0     3000m?\n",
       "1    50000m?\n",
       "2    26300m?\n",
       "3    30000m?\n",
       "4       暂无数据\n",
       "Name: total_construction_area, dtype: object"
      ]
     },
     "execution_count": 19,
     "metadata": {},
     "output_type": "execute_result"
    }
   ],
   "source": [
    "df['total_construction_area'].head(5)"
   ]
  },
  {
   "cell_type": "code",
   "execution_count": 20,
   "metadata": {
    "collapsed": true
   },
   "outputs": [],
   "source": [
    "# 去除m后面的？，以及暂无数据转为numpy的nan\n",
    "from numpy import nan as NA\n",
    "def convert_total_construction_area(x):\n",
    "    if 'm' in x:\n",
    "        return x.rstrip('m?')\n",
    "    else:\n",
    "        return NA"
   ]
  },
  {
   "cell_type": "code",
   "execution_count": 26,
   "metadata": {
    "collapsed": false
   },
   "outputs": [],
   "source": [
    "df['total_construction_area'] = df['total_construction_area'].apply(convert_total_construction_area)"
   ]
  },
  {
   "cell_type": "code",
   "execution_count": 27,
   "metadata": {
    "collapsed": false
   },
   "outputs": [
    {
     "data": {
      "text/plain": [
       "0     3000\n",
       "1    50000\n",
       "2    26300\n",
       "3    30000\n",
       "4      NaN\n",
       "Name: total_construction_area, dtype: object"
      ]
     },
     "execution_count": 27,
     "metadata": {},
     "output_type": "execute_result"
    }
   ],
   "source": [
    "df['total_construction_area'].head()"
   ]
  },
  {
   "cell_type": "code",
   "execution_count": null,
   "metadata": {
    "collapsed": true
   },
   "outputs": [],
   "source": [
    "# "
   ]
  }
 ],
 "metadata": {
  "anaconda-cloud": {},
  "kernelspec": {
   "display_name": "Python [default]",
   "language": "python",
   "name": "python3"
  },
  "language_info": {
   "codemirror_mode": {
    "name": "ipython",
    "version": 3
   },
   "file_extension": ".py",
   "mimetype": "text/x-python",
   "name": "python",
   "nbconvert_exporter": "python",
   "pygments_lexer": "ipython3",
   "version": "3.5.2"
  }
 },
 "nbformat": 4,
 "nbformat_minor": 1
}
