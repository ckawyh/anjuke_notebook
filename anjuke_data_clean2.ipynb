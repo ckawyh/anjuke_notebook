{
 "cells": [
  {
   "cell_type": "code",
   "execution_count": 1,
   "metadata": {
    "collapsed": true
   },
   "outputs": [],
   "source": [
    "import pandas as pd\n",
    "from numpy import nan as NA"
   ]
  },
  {
   "cell_type": "code",
   "execution_count": 8,
   "metadata": {
    "collapsed": false
   },
   "outputs": [],
   "source": [
    "data_path = './anjuke_community_clean.csv'\n",
    "df = pd.read_csv(data_path, encoding='gbk')"
   ]
  },
  {
   "cell_type": "code",
   "execution_count": 9,
   "metadata": {
    "collapsed": false
   },
   "outputs": [
    {
     "data": {
      "text/html": [
       "<div>\n",
       "<table border=\"1\" class=\"dataframe\">\n",
       "  <thead>\n",
       "    <tr style=\"text-align: right;\">\n",
       "      <th></th>\n",
       "      <th>community_id</th>\n",
       "      <th>community_name</th>\n",
       "      <th>url</th>\n",
       "      <th>district</th>\n",
       "      <th>township</th>\n",
       "      <th>address</th>\n",
       "      <th>age</th>\n",
       "      <th>developer</th>\n",
       "      <th>property_company</th>\n",
       "      <th>property_type</th>\n",
       "      <th>...</th>\n",
       "      <th>level_comm_num</th>\n",
       "      <th>school_score</th>\n",
       "      <th>nursery_num</th>\n",
       "      <th>junior_num</th>\n",
       "      <th>middle_num</th>\n",
       "      <th>commerce_score</th>\n",
       "      <th>restaurant_num</th>\n",
       "      <th>bank_num</th>\n",
       "      <th>supermarket_num</th>\n",
       "      <th>average_price</th>\n",
       "    </tr>\n",
       "  </thead>\n",
       "  <tbody>\n",
       "    <tr>\n",
       "      <th>0</th>\n",
       "      <td>1</td>\n",
       "      <td>莲园小区</td>\n",
       "      <td>https://shanghai.anjuke.com/community/view/1/</td>\n",
       "      <td>浦东</td>\n",
       "      <td>北蔡</td>\n",
       "      <td>莲园路518弄</td>\n",
       "      <td>1996年</td>\n",
       "      <td>上海吉松物业管理公司</td>\n",
       "      <td>NaN</td>\n",
       "      <td>公寓</td>\n",
       "      <td>...</td>\n",
       "      <td>237.0</td>\n",
       "      <td>7.0</td>\n",
       "      <td>5.0</td>\n",
       "      <td>3.0</td>\n",
       "      <td>2.0</td>\n",
       "      <td>5.0</td>\n",
       "      <td>306.0</td>\n",
       "      <td>54.0</td>\n",
       "      <td>128.0</td>\n",
       "      <td>57483</td>\n",
       "    </tr>\n",
       "    <tr>\n",
       "      <th>1</th>\n",
       "      <td>100</td>\n",
       "      <td>碧云国际社区晓园</td>\n",
       "      <td>https://shanghai.anjuke.com/community/view/100/</td>\n",
       "      <td>浦东</td>\n",
       "      <td>碧云</td>\n",
       "      <td>红枫路358弄</td>\n",
       "      <td>2006年</td>\n",
       "      <td>上海中通贵云实业有限公司</td>\n",
       "      <td>上海金晨物业经营管理有限公司</td>\n",
       "      <td>公寓</td>\n",
       "      <td>...</td>\n",
       "      <td>0.0</td>\n",
       "      <td>5.0</td>\n",
       "      <td>4.0</td>\n",
       "      <td>1.0</td>\n",
       "      <td>2.0</td>\n",
       "      <td>6.0</td>\n",
       "      <td>189.0</td>\n",
       "      <td>24.0</td>\n",
       "      <td>35.0</td>\n",
       "      <td>84345</td>\n",
       "    </tr>\n",
       "    <tr>\n",
       "      <th>2</th>\n",
       "      <td>1000</td>\n",
       "      <td>闵行水仙苑</td>\n",
       "      <td>https://shanghai.anjuke.com/community/view/1000/</td>\n",
       "      <td>闵行</td>\n",
       "      <td>春申</td>\n",
       "      <td>畹町路500弄</td>\n",
       "      <td>1998年</td>\n",
       "      <td>上海新闵房地产联合有限公司</td>\n",
       "      <td>上海阳光工联物业管理有限公司</td>\n",
       "      <td>公寓</td>\n",
       "      <td>...</td>\n",
       "      <td>0.0</td>\n",
       "      <td>0.0</td>\n",
       "      <td>0.0</td>\n",
       "      <td>0.0</td>\n",
       "      <td>0.0</td>\n",
       "      <td>0.0</td>\n",
       "      <td>0.0</td>\n",
       "      <td>0.0</td>\n",
       "      <td>0.0</td>\n",
       "      <td>57626</td>\n",
       "    </tr>\n",
       "  </tbody>\n",
       "</table>\n",
       "<p>3 rows × 37 columns</p>\n",
       "</div>"
      ],
      "text/plain": [
       "   community_id community_name  \\\n",
       "0             1           莲园小区   \n",
       "1           100       碧云国际社区晓园   \n",
       "2          1000          闵行水仙苑   \n",
       "\n",
       "                                                url district township  \\\n",
       "0     https://shanghai.anjuke.com/community/view/1/       浦东       北蔡   \n",
       "1   https://shanghai.anjuke.com/community/view/100/       浦东       碧云   \n",
       "2  https://shanghai.anjuke.com/community/view/1000/       闵行       春申   \n",
       "\n",
       "   address    age      developer property_company property_type  \\\n",
       "0  莲园路518弄  1996年     上海吉松物业管理公司              NaN            公寓   \n",
       "1  红枫路358弄  2006年   上海中通贵云实业有限公司   上海金晨物业经营管理有限公司            公寓   \n",
       "2  畹町路500弄  1998年  上海新闵房地产联合有限公司   上海阳光工联物业管理有限公司            公寓   \n",
       "\n",
       "       ...        level_comm_num  school_score  nursery_num  junior_num  \\\n",
       "0      ...                 237.0           7.0          5.0         3.0   \n",
       "1      ...                   0.0           5.0          4.0         1.0   \n",
       "2      ...                   0.0           0.0          0.0         0.0   \n",
       "\n",
       "   middle_num  commerce_score restaurant_num bank_num  supermarket_num  \\\n",
       "0         2.0             5.0          306.0     54.0            128.0   \n",
       "1         2.0             6.0          189.0     24.0             35.0   \n",
       "2         0.0             0.0            0.0      0.0              0.0   \n",
       "\n",
       "   average_price  \n",
       "0          57483  \n",
       "1          84345  \n",
       "2          57626  \n",
       "\n",
       "[3 rows x 37 columns]"
      ]
     },
     "execution_count": 9,
     "metadata": {},
     "output_type": "execute_result"
    }
   ],
   "source": [
    "df.head(3)"
   ]
  },
  {
   "cell_type": "code",
   "execution_count": 10,
   "metadata": {
    "collapsed": false
   },
   "outputs": [
    {
     "name": "stdout",
     "output_type": "stream",
     "text": [
      "<class 'pandas.core.frame.DataFrame'>\n",
      "RangeIndex: 23711 entries, 0 to 23710\n",
      "Data columns (total 37 columns):\n",
      "community_id               23711 non-null int64\n",
      "community_name             23711 non-null object\n",
      "url                        23711 non-null object\n",
      "district                   23711 non-null object\n",
      "township                   23711 non-null object\n",
      "address                    23711 non-null object\n",
      "age                        19555 non-null object\n",
      "developer                  14292 non-null object\n",
      "property_company           17014 non-null object\n",
      "property_type              22623 non-null object\n",
      "property_fee               18755 non-null float64\n",
      "longitude                  23711 non-null float64\n",
      "latitude                   23711 non-null float64\n",
      "total_construction_area    11833 non-null float64\n",
      "volume_rate                14062 non-null float64\n",
      "total_houses               12029 non-null float64\n",
      "parking_space              13782 non-null object\n",
      "green_rate                 18610 non-null object\n",
      "greet                      13883 non-null float64\n",
      "comfort                    13883 non-null float64\n",
      "traffic_score              13883 non-null float64\n",
      "metro_station_num          13883 non-null float64\n",
      "bus_station_num            13883 non-null float64\n",
      "hospital_score             13883 non-null float64\n",
      "level_three_num            13883 non-null float64\n",
      "level_two_num              13883 non-null float64\n",
      "level_one_num              13883 non-null float64\n",
      "level_comm_num             13883 non-null float64\n",
      "school_score               13883 non-null float64\n",
      "nursery_num                13883 non-null float64\n",
      "junior_num                 13883 non-null float64\n",
      "middle_num                 13883 non-null float64\n",
      "commerce_score             13883 non-null float64\n",
      "restaurant_num             13883 non-null float64\n",
      "bank_num                   13883 non-null float64\n",
      "supermarket_num            13883 non-null float64\n",
      "average_price              23711 non-null object\n",
      "dtypes: float64(24), int64(1), object(12)\n",
      "memory usage: 6.7+ MB\n"
     ]
    }
   ],
   "source": [
    "df.info()"
   ]
  },
  {
   "cell_type": "code",
   "execution_count": 6,
   "metadata": {
    "collapsed": false
   },
   "outputs": [],
   "source": [
    "# 解决物业费中有问题的字段，不能转换为数值型\n",
    "def solve_property_fee(ser_obj):\n",
    "    except_index = []\n",
    "    for i in range(0, len(ser_obj)):\n",
    "        val = ser_obj[i]\n",
    "        if val is not None:\n",
    "            try:\n",
    "                float(val)\n",
    "            except:\n",
    "                except_index.append(i)\n",
    "    return except_index     "
   ]
  },
  {
   "cell_type": "code",
   "execution_count": 15,
   "metadata": {
    "collapsed": false
   },
   "outputs": [
    {
     "name": "stdout",
     "output_type": "stream",
     "text": [
      "2205\n"
     ]
    },
    {
     "data": {
      "text/plain": [
       "0                                       充足\n",
       "9                               地上150地下300\n",
       "20                             车位数量:380 /只\n",
       "26                                  150元/月\n",
       "27                         地下2层，地面1层，共350个\n",
       "42                                   地上停车位\n",
       "51                                   地上停车位\n",
       "58                                   地上停车位\n",
       "59                                     76个\n",
       "62                                    地上车位\n",
       "63                                   地上停车位\n",
       "69                                    约60个\n",
       "72            地面车位900/月，地下车位1400/月共有车位306个\n",
       "73                                     48个\n",
       "75                                   地上停车位\n",
       "94                                   地上停车位\n",
       "101                                  地上停车位\n",
       "104                               停车状况: 80\n",
       "114                            地上24个;地下40个\n",
       "119                                  地上停车位\n",
       "120                                  地上56个\n",
       "146                                     有的\n",
       "147                                临时和自有车库\n",
       "155                                 只有地面车库\n",
       "159                                  地下58个\n",
       "163                              地下97，地上75\n",
       "164                               车位数量:60个\n",
       "169                                  地上停车位\n",
       "178                                    78个\n",
       "183                                  充足100\n",
       "                       ...                \n",
       "23322                                 100个\n",
       "23330                                地上停车位\n",
       "23332                              停车位：222\n",
       "23353                                地上停车位\n",
       "23354                               停车位充足。\n",
       "23367                                 地上车位\n",
       "23422                              总数：1200\n",
       "23431                                   地面\n",
       "23438                                   地面\n",
       "23441                                地上停车位\n",
       "23443                                   充足\n",
       "23451                                地上停车位\n",
       "23452                                地上停车位\n",
       "23459                地面车位150元/月，地下车位300元/月\n",
       "23515                       地上：200  地下：300\n",
       "23536                   电瓶车每月30元 机动车每月150元\n",
       "23572                                  90个\n",
       "23573                          18个地上，42个地下\n",
       "23590                                地面停车位\n",
       "23604                                地上停车位\n",
       "23612                             停车位：108个\n",
       "23613                                地上停车位\n",
       "23626    胡家木桥路35弄停车位地上300元/月，地下300/月10元/日。\n",
       "23667                 700个 比例：3:14 地上车位：15\n",
       "23668                       地面停车（地下停车暂无开放）\n",
       "23675                                   地上\n",
       "23694                                  路两旁\n",
       "23699                              1500元/月\n",
       "23701                        地下188个 1300元月\n",
       "23704                                地下94个\n",
       "Name: parking_space, dtype: object"
      ]
     },
     "execution_count": 15,
     "metadata": {},
     "output_type": "execute_result"
    }
   ],
   "source": [
    "except_index = solve_property_fee(df['parking_space'])\n",
    "print(len(except_index))\n",
    "df['parking_space'][except_index]"
   ]
  },
  {
   "cell_type": "code",
   "execution_count": 17,
   "metadata": {
    "collapsed": false
   },
   "outputs": [],
   "source": [
    "df.replace('暂无均价', NA, inplace=True)"
   ]
  },
  {
   "cell_type": "code",
   "execution_count": 27,
   "metadata": {
    "collapsed": false
   },
   "outputs": [],
   "source": [
    "df['green_rate'] = df['green_rate'].dropna().apply(lambda x : x.split('%')[0])"
   ]
  },
  {
   "cell_type": "code",
   "execution_count": 29,
   "metadata": {
    "collapsed": false
   },
   "outputs": [],
   "source": [
    "df.to_csv('anjuke_community_clean.csv', index=False)"
   ]
  },
  {
   "cell_type": "code",
   "execution_count": null,
   "metadata": {
    "collapsed": true
   },
   "outputs": [],
   "source": []
  }
 ],
 "metadata": {
  "anaconda-cloud": {},
  "kernelspec": {
   "display_name": "Python [default]",
   "language": "python",
   "name": "python3"
  },
  "language_info": {
   "codemirror_mode": {
    "name": "ipython",
    "version": 3
   },
   "file_extension": ".py",
   "mimetype": "text/x-python",
   "name": "python",
   "nbconvert_exporter": "python",
   "pygments_lexer": "ipython3",
   "version": "3.5.2"
  }
 },
 "nbformat": 4,
 "nbformat_minor": 1
}
